{
 "cells": [
  {
   "attachments": {},
   "cell_type": "markdown",
   "metadata": {},
   "source": [
    "# Ashhad Memon"
   ]
  },
  {
   "attachments": {},
   "cell_type": "markdown",
   "metadata": {},
   "source": [
    "## Research question/interests\n",
    "\n",
    "**As the game is becoming competitive everyday which players have proven to be the most valuable to their teams using the criteria of age, assists per game, steals per game blocks per game and score per game?**\n",
    "\n",
    "\n",
    "\n",
    "To analyze that I will remove all other columns from the data set I would also like to order the data set in decreasing patterns over the years and also have the Data for the top 10 players in each year according to the criteria."
   ]
  },
  {
   "cell_type": "code",
   "execution_count": null,
   "metadata": {},
   "outputs": [],
   "source": [
    "import pandas as pd\n",
    "pd.read_csv(\"../data/raw/archive (2)/all_seasons.csv\")\n"
   ]
  },
  {
   "cell_type": "code",
   "execution_count": null,
   "metadata": {},
   "outputs": [],
   "source": [
    "pd.read_csv(\"../data/raw/archive (2)/player.csv\") \n"
   ]
  },
  {
   "cell_type": "code",
   "execution_count": null,
   "metadata": {},
   "outputs": [],
   "source": [
    "pd.read_csv(\"../data/raw/archive (2)/mvps.csv\")"
   ]
  }
 ],
 "metadata": {
  "kernelspec": {
   "display_name": "base",
   "language": "python",
   "name": "python3"
  },
  "language_info": {
   "name": "python",
   "version": "3.10.8"
  },
  "orig_nbformat": 4,
  "vscode": {
   "interpreter": {
    "hash": "4b9d0b664944abf91d8765850431c1a1f71e8d80441543e0ad1ad355c56bb738"
   }
  }
 },
 "nbformat": 4,
 "nbformat_minor": 2
}
