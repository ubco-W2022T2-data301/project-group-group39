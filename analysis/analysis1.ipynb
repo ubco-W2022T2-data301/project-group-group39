{
 "cells": [
  {
   "attachments": {},
   "cell_type": "markdown",
   "metadata": {},
   "source": [
    "# Adam Delfs"
   ]
  },
  {
   "attachments": {},
   "cell_type": "markdown",
   "metadata": {},
   "source": [
    "## Research question/interests\n",
    "\n",
    "\n",
    "\n",
    "**Lebron James has had a one of a kind career. His latest greatest accolade being beating Kareem Abdul Jabbar's long standing all-time points record. Therefore I am interested, is any other current player capable to take the top spot from Lebron, and if so how long will they have to play to do so?**\n",
    "\n",
    "\n",
    "\n",
    "To analyze this I will be looking at some important factors. Points per game, total points and games played per season . This data will show me their scoring efficiency(total points not fg%) as their careers progress, this could be an additional column. I could also clean up the data by removing unneeded columns such as assists per game, steals per game, etc.  Using this data I can figure out how long a player would need to stay in the league in order to snag Lebrons record. Other factors such as field goal and free throw efficiencies can be helpful as well to account for degrading point scoring as a player ages."
   ]
  },
  {
   "cell_type": "code",
   "execution_count": null,
   "metadata": {},
   "outputs": [],
   "source": [
    "import pandas as pd\n",
    "pd.read_csv(\"../data/raw/archive (2)/all_seasons.csv\")\n"
   ]
  },
  {
   "cell_type": "code",
   "execution_count": null,
   "metadata": {},
   "outputs": [],
   "source": [
    "pd.read_csv(\"../data/raw/archive (2)/player.csv\") "
   ]
  }
 ],
 "metadata": {
  "kernelspec": {
   "display_name": "Python 3",
   "language": "python",
   "name": "python3"
  },
  "language_info": {
   "name": "python",
   "version": "2.7.10 (default, Feb 22 2019, 21:55:15) \n[GCC 4.2.1 Compatible Apple LLVM 10.0.1 (clang-1001.0.37.14)]"
  },
  "orig_nbformat": 4,
  "vscode": {
   "interpreter": {
    "hash": "beb4f305451b4835b36a63cb1c75e625a7251cf8d76b65be2f5856eee68cb551"
   }
  }
 },
 "nbformat": 4,
 "nbformat_minor": 2
}
