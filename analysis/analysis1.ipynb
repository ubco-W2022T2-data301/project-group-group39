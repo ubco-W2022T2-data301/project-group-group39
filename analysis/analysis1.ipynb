{
 "cells": [
  {
   "attachments": {},
   "cell_type": "markdown",
   "metadata": {},
   "source": [
    "# Adam Delfs"
   ]
  },
  {
   "attachments": {},
   "cell_type": "markdown",
   "metadata": {},
   "source": [
    "## Research question/interests\n",
    "\n",
    "Lebron James has had a one of a kind career. His latest greatest accolade being beating kareem abdul jabbar's long standing all-time points record. Therefore I am interested, is any other current player capable to take the top spot from Lebron, and if so how long will they have to play to do so?\n",
    "\n",
    "\n",
    "\n",
    "To analyze this I will be looking at some important factors. Points per game, total points and games played per season . This data will show me their efficiency as their careers progress. Using this data I can figure out how long a player would need to stay in the league in order to snag Lebrons record. Other factors such as field goal and free throw efficiencies can be helpful as well to account for degrading point scoring as a player ages."
   ]
  },
  {
   "cell_type": "code",
   "execution_count": null,
   "metadata": {},
   "outputs": [],
   "source": [
    "import pandas as pd\n",
    "pd.read_csv(\"../data/raw/archive (2)/all_seasons.csv\")\n"
   ]
  },
  {
   "cell_type": "code",
   "execution_count": null,
   "metadata": {},
   "outputs": [],
   "source": [
    "pd.read_csv(\"../data/raw/archive (2)/player.csv\") "
   ]
  }
 ],
 "metadata": {
  "language_info": {
   "name": "plaintext"
  },
  "orig_nbformat": 4
 },
 "nbformat": 4,
 "nbformat_minor": 2
}
